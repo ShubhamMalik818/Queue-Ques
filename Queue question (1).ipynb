{
 "cells": [
  {
   "cell_type": "code",
   "execution_count": null,
   "id": "0854bc7d-3753-43cd-acae-08880fa1f882",
   "metadata": {},
   "outputs": [],
   "source": [
    "2.Implement a queue using a list in Python. Include the necessary methods such as enqueue, dequeue, and isEmpty."
   ]
  },
  {
   "cell_type": "code",
   "execution_count": 3,
   "id": "0c70e9b8-b3a4-474c-93bc-601213739be5",
   "metadata": {},
   "outputs": [],
   "source": [
    "class Queue:\n",
    "    def __init__(self):\n",
    "        self.queue = []\n",
    "\n",
    "    def enqueue(self, item):\n",
    "        self.queue.append(item)\n",
    "\n",
    "    def dequeue(self):\n",
    "        if not self.isEmpty():\n",
    "            return self.queue.pop(0)\n",
    "        else:\n",
    "            print(\"Queue is empty.\")\n",
    "\n",
    "    def isEmpty(self):\n",
    "        return len(self.queue) == 0"
   ]
  },
  {
   "cell_type": "code",
   "execution_count": 4,
   "id": "15d7d65f-84ac-4ada-b5d2-360a05da427a",
   "metadata": {},
   "outputs": [
    {
     "name": "stdout",
     "output_type": "stream",
     "text": [
      "False\n",
      "10\n",
      "20\n",
      "30\n",
      "Queue is empty.\n"
     ]
    }
   ],
   "source": [
    "# Create a queue instance\n",
    "queue = Queue()\n",
    "\n",
    "# Enqueue elements to the queue\n",
    "queue.enqueue(10)\n",
    "queue.enqueue(20)\n",
    "queue.enqueue(30)\n",
    "\n",
    "# Check if the queue is empty\n",
    "print(queue.isEmpty())  # Output: False\n",
    "\n",
    "# Dequeue elements from the queue\n",
    "print(queue.dequeue())  # Output: 10\n",
    "print(queue.dequeue())  # Output: 20\n",
    "print(queue.dequeue())  # Output: 30\n",
    "\n",
    "# Dequeue from an empty queue\n",
    "queue.dequeue()  # Output: Queue is empty."
   ]
  }
 ],
 "metadata": {
  "kernelspec": {
   "display_name": "Python 3 (ipykernel)",
   "language": "python",
   "name": "python3"
  },
  "language_info": {
   "codemirror_mode": {
    "name": "ipython",
    "version": 3
   },
   "file_extension": ".py",
   "mimetype": "text/x-python",
   "name": "python",
   "nbconvert_exporter": "python",
   "pygments_lexer": "ipython3",
   "version": "3.10.8"
  }
 },
 "nbformat": 4,
 "nbformat_minor": 5
}
